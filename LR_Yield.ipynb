{
 "cells": [
  {
   "cell_type": "code",
   "execution_count": 3,
   "id": "68f375f2-2821-4ce3-b60d-6d09fdfb4092",
   "metadata": {},
   "outputs": [],
   "source": [
    "import pandas as pd\n",
    "import numpy as np\n",
    "import matplotlib.pyplot as plt"
   ]
  },
  {
   "cell_type": "code",
   "execution_count": 4,
   "id": "1a0aac55-7d4e-4a7f-93b4-cc3a2757ce4d",
   "metadata": {},
   "outputs": [],
   "source": [
    "from sklearn.linear_model import LinearRegression\n",
    "from sklearn.metrics import r2_score"
   ]
  },
  {
   "cell_type": "code",
   "execution_count": 6,
   "id": "cdd9e598-a983-4ddc-81e2-4f38efb7b6ec",
   "metadata": {},
   "outputs": [
    {
     "data": {
      "text/html": [
       "<div>\n",
       "<style scoped>\n",
       "    .dataframe tbody tr th:only-of-type {\n",
       "        vertical-align: middle;\n",
       "    }\n",
       "\n",
       "    .dataframe tbody tr th {\n",
       "        vertical-align: top;\n",
       "    }\n",
       "\n",
       "    .dataframe thead th {\n",
       "        text-align: right;\n",
       "    }\n",
       "</style>\n",
       "<table border=\"1\" class=\"dataframe\">\n",
       "  <thead>\n",
       "    <tr style=\"text-align: right;\">\n",
       "      <th></th>\n",
       "      <th>Sl. No.</th>\n",
       "      <th>AC ha</th>\n",
       "      <th>MY t/ha</th>\n",
       "    </tr>\n",
       "  </thead>\n",
       "  <tbody>\n",
       "    <tr>\n",
       "      <th>0</th>\n",
       "      <td>1</td>\n",
       "      <td>201.51</td>\n",
       "      <td>7.18</td>\n",
       "    </tr>\n",
       "    <tr>\n",
       "      <th>1</th>\n",
       "      <td>2</td>\n",
       "      <td>201.40</td>\n",
       "      <td>7.85</td>\n",
       "    </tr>\n",
       "    <tr>\n",
       "      <th>2</th>\n",
       "      <td>3</td>\n",
       "      <td>201.29</td>\n",
       "      <td>7.26</td>\n",
       "    </tr>\n",
       "    <tr>\n",
       "      <th>3</th>\n",
       "      <td>4</td>\n",
       "      <td>201.18</td>\n",
       "      <td>7.42</td>\n",
       "    </tr>\n",
       "    <tr>\n",
       "      <th>4</th>\n",
       "      <td>5</td>\n",
       "      <td>201.07</td>\n",
       "      <td>7.52</td>\n",
       "    </tr>\n",
       "    <tr>\n",
       "      <th>5</th>\n",
       "      <td>6</td>\n",
       "      <td>200.95</td>\n",
       "      <td>7.09</td>\n",
       "    </tr>\n",
       "    <tr>\n",
       "      <th>6</th>\n",
       "      <td>7</td>\n",
       "      <td>200.83</td>\n",
       "      <td>6.87</td>\n",
       "    </tr>\n",
       "    <tr>\n",
       "      <th>7</th>\n",
       "      <td>8</td>\n",
       "      <td>200.60</td>\n",
       "      <td>7.56</td>\n",
       "    </tr>\n",
       "    <tr>\n",
       "      <th>8</th>\n",
       "      <td>9</td>\n",
       "      <td>200.49</td>\n",
       "      <td>7.46</td>\n",
       "    </tr>\n",
       "    <tr>\n",
       "      <th>9</th>\n",
       "      <td>10</td>\n",
       "      <td>200.39</td>\n",
       "      <td>7.46</td>\n",
       "    </tr>\n",
       "    <tr>\n",
       "      <th>10</th>\n",
       "      <td>11</td>\n",
       "      <td>200.27</td>\n",
       "      <td>7.03</td>\n",
       "    </tr>\n",
       "    <tr>\n",
       "      <th>11</th>\n",
       "      <td>12</td>\n",
       "      <td>200.15</td>\n",
       "      <td>6.23</td>\n",
       "    </tr>\n",
       "    <tr>\n",
       "      <th>12</th>\n",
       "      <td>13</td>\n",
       "      <td>200.03</td>\n",
       "      <td>6.56</td>\n",
       "    </tr>\n",
       "    <tr>\n",
       "      <th>13</th>\n",
       "      <td>14</td>\n",
       "      <td>199.92</td>\n",
       "      <td>6.81</td>\n",
       "    </tr>\n",
       "    <tr>\n",
       "      <th>14</th>\n",
       "      <td>15</td>\n",
       "      <td>199.83</td>\n",
       "      <td>7.54</td>\n",
       "    </tr>\n",
       "    <tr>\n",
       "      <th>15</th>\n",
       "      <td>16</td>\n",
       "      <td>199.69</td>\n",
       "      <td>6.54</td>\n",
       "    </tr>\n",
       "    <tr>\n",
       "      <th>16</th>\n",
       "      <td>17</td>\n",
       "      <td>199.58</td>\n",
       "      <td>7.17</td>\n",
       "    </tr>\n",
       "    <tr>\n",
       "      <th>17</th>\n",
       "      <td>18</td>\n",
       "      <td>199.46</td>\n",
       "      <td>7.86</td>\n",
       "    </tr>\n",
       "  </tbody>\n",
       "</table>\n",
       "</div>"
      ],
      "text/plain": [
       "    Sl. No.    AC ha  MY t/ha\n",
       "0          1  201.51     7.18\n",
       "1          2  201.40     7.85\n",
       "2          3  201.29     7.26\n",
       "3          4  201.18     7.42\n",
       "4          5  201.07     7.52\n",
       "5          6  200.95     7.09\n",
       "6          7  200.83     6.87\n",
       "7          8  200.60     7.56\n",
       "8          9  200.49     7.46\n",
       "9         10  200.39     7.46\n",
       "10        11  200.27     7.03\n",
       "11        12  200.15     6.23\n",
       "12        13  200.03     6.56\n",
       "13        14  199.92     6.81\n",
       "14        15  199.83     7.54\n",
       "15        16  199.69     6.54\n",
       "16        17  199.58     7.17\n",
       "17        18  199.46     7.86"
      ]
     },
     "execution_count": 6,
     "metadata": {},
     "output_type": "execute_result"
    }
   ],
   "source": [
    "df=pd.read_excel('CropYield.xlsx')\n",
    "df"
   ]
  },
  {
   "cell_type": "code",
   "execution_count": 7,
   "id": "73890d15-85a1-49ee-b0fe-c85762ba57f9",
   "metadata": {},
   "outputs": [],
   "source": [
    "x=df['AC ha']\n",
    "y=df['MY t/ha']"
   ]
  },
  {
   "cell_type": "code",
   "execution_count": 11,
   "id": "0f61acff-99eb-42bb-b949-15fee25a6a81",
   "metadata": {},
   "outputs": [
    {
     "data": {
      "image/png": "[encoded data removed]",
      "text/plain": [
       "<Figure size 640x480 with 1 Axes>"
      ]
     },
     "metadata": {},
     "output_type": "display_data"
    }
   ],
   "source": [
    "plt.scatter(x,y)\n",
    "plt.xlabel('AC ha')\n",
    "plt.ylabel('MY t/ha')\n",
    "plt.show ()"
   ]
  },
  {
   "cell_type": "code",
   "execution_count": 12,
   "id": "8c4be9de-3dc4-4946-bf28-d33596a4ac8e",
   "metadata": {},
   "outputs": [],
   "source": [
    "X=np.array(x).reshape((-1,1))\n",
    "model=LinearRegression()\n",
    "model.fit(X,y)\n",
    "intercept=model.intercept_\n",
    "slope=model.coef_[0]"
   ]
  },
  {
   "cell_type": "code",
   "execution_count": 13,
   "id": "6f1017c2-ec30-40a7-876a-fd738637ea6b",
   "metadata": {},
   "outputs": [
    {
     "name": "stdout",
     "output_type": "stream",
     "text": [
      "fintercept: -29.453322000412523\n",
      "slope: 0.18277517181193617\n"
     ]
    }
   ],
   "source": [
    "print('fintercept:', intercept)\n",
    "print(f'slope:', slope)"
   ]
  },
  {
   "cell_type": "code",
   "execution_count": 14,
   "id": "f83c7703-392f-453b-b6ac-bc48866ca7ae",
   "metadata": {},
   "outputs": [
    {
     "data": {
      "image/png": "[encoded data removed]",
      "text/plain": [
       "<Figure size 640x480 with 1 Axes>"
      ]
     },
     "metadata": {},
     "output_type": "display_data"
    }
   ],
   "source": [
    "x_line=X\n",
    "y_line=slope*x_line+intercept\n",
    "plt.scatter(X,y)\n",
    "\n",
    "plt.plot(x_line, y_line, color='red')\n",
    "plt.xlabel('AC, ha')\n",
    "plt.ylabel('MY, t/ha')\n",
    "plt.show ()"
   ]
  },
  {
   "cell_type": "code",
   "execution_count": 15,
   "id": "7f05fbeb-ac48-460e-89d0-36a5c7521ef2",
   "metadata": {},
   "outputs": [
    {
     "name": "stdout",
     "output_type": "stream",
     "text": [
      "<function r2_score at 0x0000029272854E00>\n"
     ]
    }
   ],
   "source": [
    "print(r2_score)\n"
   ]
  },
  {
   "cell_type": "code",
   "execution_count": 16,
   "id": "c5ed447d-cac8-4170-b860-7ee7f32a4f87",
   "metadata": {},
   "outputs": [
    {
     "name": "stdout",
     "output_type": "stream",
     "text": [
      "0.07039399803881596\n"
     ]
    }
   ],
   "source": [
    "r2=r2_score(y,y_line)\n",
    "print(r2)"
   ]
  },
  {
   "cell_type": "code",
   "execution_count": null,
   "id": "a89b3aeb-5a4a-4af4-b335-71c24b451a1f",
   "metadata": {},
   "outputs": [],
   "source": []
  }
 ],
 "metadata": {
  "kernelspec": {
   "display_name": "Python 3 (ipykernel)",
   "language": "python",
   "name": "python3"
  },
  "language_info": {
   "codemirror_mode": {
    "name": "ipython",
    "version": 3
   },
   "file_extension": ".py",
   "mimetype": "text/x-python",
   "name": "python",
   "nbconvert_exporter": "python",
   "pygments_lexer": "ipython3",
   "version": "3.11.4"
  }
 },
 "nbformat": 4,
 "nbformat_minor": 5
}
