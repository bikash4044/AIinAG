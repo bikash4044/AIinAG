{
 "cells": [
  {
   "cell_type": "code",
   "execution_count": 2,
   "id": "d4a78f01-df2e-42be-acae-a627f82da980",
   "metadata": {},
   "outputs": [],
   "source": [
    "import pandas as pd\n",
    "import numpy as np\n",
    "from sklearn.linear_model import LinearRegression\n",
    "from sklearn.svm import SVR\n",
    "from sklearn.metrics import mean_absolute_error, r2_score, mean_squared_error\n",
    "import matplotlib.pyplot as plt\n",
    "%matplotlib inline"
   ]
  },
  {
   "cell_type": "code",
   "execution_count": 4,
   "id": "0c294163-1d9b-4b5a-9b7e-254de46e8304",
   "metadata": {},
   "outputs": [],
   "source": [
    "from sklearn.model_selection import train_test_split"
   ]
  },
  {
   "cell_type": "code",
   "execution_count": 5,
   "id": "3e69e214-9e8c-4583-ba87-bb494e4864b9",
   "metadata": {},
   "outputs": [
    {
     "name": "stdout",
     "output_type": "stream",
     "text": [
      "/storage/emulated/0/jupyter\n"
     ]
    }
   ],
   "source": [
    "!pwd"
   ]
  },
  {
   "cell_type": "code",
   "execution_count": 8,
   "id": "00cdec80-9295-4b5e-898d-d9fbd6aafd7f",
   "metadata": {},
   "outputs": [
    {
     "data": {
      "text/html": [
       "<div>\n",
       "<style scoped>\n",
       "    .dataframe tbody tr th:only-of-type {\n",
       "        vertical-align: middle;\n",
       "    }\n",
       "\n",
       "    .dataframe tbody tr th {\n",
       "        vertical-align: top;\n",
       "    }\n",
       "\n",
       "    .dataframe thead th {\n",
       "        text-align: right;\n",
       "    }\n",
       "</style>\n",
       "<table border=\"1\" class=\"dataframe\">\n",
       "  <thead>\n",
       "    <tr style=\"text-align: right;\">\n",
       "      <th></th>\n",
       "      <th>SPAD</th>\n",
       "      <th>Nitrogen, mmol/m2</th>\n",
       "    </tr>\n",
       "  </thead>\n",
       "  <tbody>\n",
       "    <tr>\n",
       "      <th>0</th>\n",
       "      <td>12.2</td>\n",
       "      <td>11.1128</td>\n",
       "    </tr>\n",
       "  </tbody>\n",
       "</table>\n",
       "</div>"
      ],
      "text/plain": [
       "   SPAD  Nitrogen, mmol/m2\n",
       "0  12.2            11.1128"
      ]
     },
     "execution_count": 8,
     "metadata": {},
     "output_type": "execute_result"
    }
   ],
   "source": [
    "df = pd.read_excel(\"SVR_Example.xlsx\",sheet_name=\"SPAD and Nitrogen\")\n",
    "df.head(1)"
   ]
  },
  {
   "cell_type": "code",
   "execution_count": 16,
   "id": "d4005182-4b7b-4913-8875-8e7fe068f636",
   "metadata": {},
   "outputs": [],
   "source": [
    "x = df[\"SPAD\"]\n",
    "y = df[\"Nitrogen, mmol/m2\"]"
   ]
  },
  {
   "cell_type": "code",
   "execution_count": 17,
   "id": "ebdc5dea-0b81-4aa4-b7a0-2193bca8ce86",
   "metadata": {},
   "outputs": [],
   "source": [
    "X = np.array(x).reshape(-1,1)\n",
    "# y = np.array(y).reshape(-1,1)"
   ]
  },
  {
   "cell_type": "code",
   "execution_count": 18,
   "id": "7936d6fd-be9c-4fe1-bd08-31decde2a106",
   "metadata": {},
   "outputs": [],
   "source": [
    "#split datset for training and testing\n",
    "X_train,X_test, y_train,y_test = train_test_split(X,y,test_size=0.3,random_state=0)"
   ]
  },
  {
   "cell_type": "markdown",
   "id": "0bc0a741-251c-40b5-986d-1adee195f8c8",
   "metadata": {},
   "source": [
    "## Model import, training and testing"
   ]
  },
  {
   "cell_type": "code",
   "execution_count": 19,
   "id": "7451eb76-6f85-4f2c-87b6-0d2e94191ab1",
   "metadata": {},
   "outputs": [],
   "source": [
    "svr = SVR(kernel=\"linear\")\n",
    "svr.fit(X_train,y_train)\n",
    "svr_pred = svr.predict(X_test)"
   ]
  },
  {
   "cell_type": "code",
   "execution_count": 20,
   "id": "1505d04f-c3af-4a67-b893-6343964064f4",
   "metadata": {},
   "outputs": [
    {
     "data": {
      "text/plain": [
       "array([11.66431951, 16.90492266, 16.63009899, 13.84869388, 16.75329581,\n",
       "       17.35506489, 16.42792985, 16.50690217, 17.22712973, 12.39402375,\n",
       "       16.99968945, 16.92387602, 13.79657215, 13.94346066, 16.12151725,\n",
       "       14.5641831 , 16.2320785 , 11.68327287, 17.76256206, 15.7487679 ,\n",
       "       16.9333527 , 16.81015588, 14.87217515, 17.13710128, 15.36970076,\n",
       "       17.54933679, 16.61114563, 18.1179375 , 16.54480888, 11.80646969,\n",
       "       15.49289758, 13.98136738, 18.17479757, 11.44635591, 14.74581943,\n",
       "       11.91071315, 18.08003078, 17.93788061, 14.51679971, 17.95683397,\n",
       "       14.77161706, 13.93714288, 15.25598062, 17.59198185])"
      ]
     },
     "execution_count": 20,
     "metadata": {},
     "output_type": "execute_result"
    }
   ],
   "source": [
    "svr_pred"
   ]
  },
  {
   "cell_type": "code",
   "execution_count": null,
   "id": "e80aa73f-d721-4e66-bc7b-3340c1086a5c",
   "metadata": {},
   "outputs": [],
   "source": [
    "print(\"MAE:\",mean_absolute_error(y_test,svr_pred))"
   ]
  }
 ],
 "metadata": {
  "kernelspec": {
   "display_name": "Python 3 (ipykernel)",
   "language": "python",
   "name": "python3"
  },
  "language_info": {
   "codemirror_mode": {
    "name": "ipython",
    "version": 3
   },
   "file_extension": ".py",
   "mimetype": "text/x-python",
   "name": "python",
   "nbconvert_exporter": "python",
   "pygments_lexer": "ipython3",
   "version": "3.11.4"
  }
 },
 "nbformat": 4,
 "nbformat_minor": 5
}
