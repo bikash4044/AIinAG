{
 "cells": [
  {
   "cell_type": "code",
   "execution_count": 1,
   "id": "f6f2ede3-7d77-49b6-9ced-799385c78d00",
   "metadata": {},
   "outputs": [
    {
     "name": "stdout",
     "output_type": "stream",
     "text": [
      "\u001b[31mERROR: Could not find a version that satisfies the requirement git (from versions: none)\u001b[0m\u001b[31m\n",
      "\u001b[0m\u001b[31mERROR: No matching distribution found for git\u001b[0m\u001b[31m\n",
      "\u001b[0mNote: you may need to restart the kernel to use updated packages.\n"
     ]
    }
   ],
   "source": [
    "%pip install git"
   ]
  },
  {
   "cell_type": "code",
   "execution_count": 2,
   "id": "9341e5e5-2cfd-4107-b7dc-daa54bcfefab",
   "metadata": {},
   "outputs": [
    {
     "name": "stderr",
     "output_type": "stream",
     "text": [
      "UsageError: Line magic function `%pkg` not found.\n"
     ]
    }
   ],
   "source": [
    "%pkg install git"
   ]
  },
  {
   "cell_type": "code",
   "execution_count": 3,
   "id": "27d2df23-89f2-427a-9aac-86ebdb8a0080",
   "metadata": {},
   "outputs": [
    {
     "name": "stderr",
     "output_type": "stream",
     "text": [
      "UsageError: Line magic function `%git` not found.\n"
     ]
    }
   ],
   "source": [
    "%git --version"
   ]
  },
  {
   "cell_type": "code",
   "execution_count": 4,
   "id": "c0906ffc-ee62-4537-8355-d42cce796068",
   "metadata": {},
   "outputs": [
    {
     "name": "stdout",
     "output_type": "stream",
     "text": [
      "/data/user/0/ru.iiec.pydroid3/files/sh: git: not found\n"
     ]
    }
   ],
   "source": [
    "!git"
   ]
  },
  {
   "cell_type": "code",
   "execution_count": 5,
   "id": "6115b1f6-5d29-4ba9-8619-9bfb9a9e1e28",
   "metadata": {},
   "outputs": [
    {
     "name": "stdout",
     "output_type": "stream",
     "text": [
      "/storage/emulated/0/jupyter\n"
     ]
    }
   ],
   "source": [
    "!pwd"
   ]
  },
  {
   "cell_type": "code",
   "execution_count": null,
   "id": "43534c5b-5076-47c8-a523-635bb6fa517e",
   "metadata": {},
   "outputs": [],
   "source": []
  }
 ],
 "metadata": {
  "kernelspec": {
   "display_name": "Python 3 (ipykernel)",
   "language": "python",
   "name": "python3"
  },
  "language_info": {
   "codemirror_mode": {
    "name": "ipython",
    "version": 3
   },
   "file_extension": ".py",
   "mimetype": "text/x-python",
   "name": "python",
   "nbconvert_exporter": "python",
   "pygments_lexer": "ipython3",
   "version": "3.11.4"
  }
 },
 "nbformat": 4,
 "nbformat_minor": 5
}
